{
 "cells": [
  {
   "cell_type": "markdown",
   "id": "709a387f",
   "metadata": {},
   "source": [
    "# Changes in CB1 receptor availability in PTSD \n",
    "\n",
    "Cannabinoid receptor 1 (CB1r) play a crucial rule in the development and maintenance of trauma related disorders such as Posttraumatic stress disorder (PTSD).\n",
    "\n",
    "CB1r are the most common g-coupled receptors in the brain and are expressed in all regions of the brain. They act as retrograde messenger and affect excitatory as well as inhibitory synapse.\n",
    "\n",
    "Previous studies in both humans and rodents showed inconclusive results, with studies showing both up-regulation and down-regulation of CB1r following traumatic event. \n",
    "\n",
    "Here, using the 11c-Omar Radio-tracer, we aim to compare differences between healthy controls and PTSD in CB1 receptor availability.\n",
    "\n",
    "Previous studies have pointed to possible age and sex  effect on CB1r expression.\n",
    "Hence, both age and sex were introduced as covariance in the analysis.\n",
    "\n",
    "Our first goal was to look at the entire brain, and see if there is a brain level effect.\n",
    "\n",
    "To that aim, we run a one way ANCOVA with distribution volume (VT) as dependent and group as independent variable, and sex and age as covariates. \n",
    "\n",
    "Using OLS regression, we will verify the effects, and check for which model describe the data best by comparing AIC and BIC.\n",
    "\n",
    "In the next stage we will check for correlation between CB1r availability and PTSD symptoms.\n",
    "\n",
    "For that aim we will run partial correlation between CB1r Vt and total PTSD symptoms. Based on results from the first analysis, age and/or sex will be used as covariates.\n",
    "\n",
    "In the final stage we will look at the Amygdala as an a-priori ROI and look at how CB1r in the Amygdala correlate with PTSD symptoms. We will partial out the whole brain signal, age and/or sex.\n",
    "\n",
    "## Loading libraries"
   ]
  },
  {
   "cell_type": "code",
   "execution_count": 1,
   "id": "a3f175c3",
   "metadata": {},
   "outputs": [],
   "source": [
    "import pandas as pd\n",
    "from glob import glob\n",
    "\n",
    "import pingouin as pg\n",
    "import statsmodels.api as sm\n",
    "import statsmodels.formula.api as smf\n",
    "\n",
    "import matplotlib\n",
    "import matplotlib.pyplot as plt\n",
    "import seaborn as sns\n",
    "from mpl_toolkits.axes_grid1 import make_axes_locatable\n",
    "\n",
    "sns.set(rc={'figure.figsize':(8,8)})"
   ]
  },
  {
   "cell_type": "markdown",
   "id": "e756f839",
   "metadata": {},
   "source": [
    "# Load data and prepare it for analysis"
   ]
  },
  {
   "cell_type": "code",
   "execution_count": 2,
   "id": "0a297952",
   "metadata": {},
   "outputs": [],
   "source": [
    "# Gather VT data from storage@Yale \n",
    "\n",
    "hc_path = '/media/Data/Lab_Projects/CB1/neuroimaging/CB1_results/OMAR_scores/dcd/HC/*/batch_omar_doneon_*.csv'\n",
    "\n",
    "db = pd.DataFrame()\n",
    "\n",
    "for sub in glob(hc_path):\n",
    "    temp = pd.read_csv(sub)\n",
    "    temp = temp[temp['Parameter']== 'VT']\n",
    "    subID = temp.PatientID[0]\n",
    "    temp = temp[['ROI', 'Value']]\n",
    "    temp = temp.rename(columns={'Value': subID})\n",
    "    temp = temp.set_index('ROI')\n",
    "    temp = temp.T\n",
    "    db = db.append(temp)\n",
    "    \n",
    "db['group'] = 'HC'"
   ]
  },
  {
   "cell_type": "code",
   "execution_count": 3,
   "id": "8c6f14ff",
   "metadata": {},
   "outputs": [],
   "source": [
    "# Load the PTSD data including the clinical data.\n",
    "\n",
    "PTSD = pd.read_csv('CB1_clinical_30_6_21.csv')\n",
    "PTSD = PTSD.set_index('PetID')\n",
    "PTSD = PTSD[PTSD['PTSD'] == 'Yes']\n",
    "\n",
    "PTSD_bg = PTSD.iloc[:, 11:]\n",
    "PTSD_bg['group'] = 'PTSD'\n",
    "\n",
    "db = db.append(PTSD_bg)"
   ]
  },
  {
   "cell_type": "code",
   "execution_count": 4,
   "id": "6c8692f9",
   "metadata": {},
   "outputs": [],
   "source": [
    "# get age and gender as recorded in the Haven data base\n",
    "\n",
    "age = pd.read_csv('/home/nachshon/Documents/CB1/PETdata/age.csv')\n",
    "age = age.set_index('PatientID')\n",
    "data = db.merge(age , left_index=True, right_index=True)"
   ]
  },
  {
   "cell_type": "code",
   "execution_count": 5,
   "id": "0149c64e",
   "metadata": {},
   "outputs": [
    {
     "name": "stderr",
     "output_type": "stream",
     "text": [
      "/tmp/ipykernel_101712/1047725218.py:7: SettingWithCopyWarning: \n",
      "A value is trying to be set on a copy of a slice from a DataFrame.\n",
      "Try using .loc[row_indexer,col_indexer] = value instead\n",
      "\n",
      "See the caveats in the documentation: https://pandas.pydata.org/pandas-docs/stable/user_guide/indexing.html#returning-a-view-versus-a-copy\n",
      "  wb['Sex'] = wb['sex'].map({'f':1, 'm':0})\n",
      "/tmp/ipykernel_101712/1047725218.py:8: SettingWithCopyWarning: \n",
      "A value is trying to be set on a copy of a slice from a DataFrame.\n",
      "Try using .loc[row_indexer,col_indexer] = value instead\n",
      "\n",
      "See the caveats in the documentation: https://pandas.pydata.org/pandas-docs/stable/user_guide/indexing.html#returning-a-view-versus-a-copy\n",
      "  wb['Group'] = wb['group'].map({'PTSD':1, 'HC':0})\n"
     ]
    }
   ],
   "source": [
    "# based on average ROI volume in mm3 caculate whole brain signal\n",
    "data['whole_brain'] = data.frontal*0.39 + data.temporal*0.265 + data.occipital*0.126 + data.cerebellum*0.11 + data.parietal*0.109\n",
    "PTSD['whole_brain'] = PTSD.frontal*0.39 + PTSD.temporal*0.265 + PTSD.occipital*0.126 + PTSD.cerebellum*0.11 + PTSD.parietal*0.109\n",
    "\n",
    "# include only relevant fields for streamlining analysis\n",
    "wb = data[['group', 'sex', 'age','whole_brain']]\n",
    "wb['Sex'] = wb['sex'].map({'f':1, 'm':0})\n",
    "wb['Group'] = wb['group'].map({'PTSD':1, 'HC':0})\n",
    "\n",
    "wb = wb.drop_duplicates()"
   ]
  },
  {
   "cell_type": "markdown",
   "id": "6b511d23",
   "metadata": {},
   "source": [
    "## Sample description"
   ]
  },
  {
   "cell_type": "code",
   "execution_count": 6,
   "id": "483892fb",
   "metadata": {},
   "outputs": [
    {
     "data": {
      "text/html": [
       "<div>\n",
       "<style scoped>\n",
       "    .dataframe tbody tr th:only-of-type {\n",
       "        vertical-align: middle;\n",
       "    }\n",
       "\n",
       "    .dataframe tbody tr th {\n",
       "        vertical-align: top;\n",
       "    }\n",
       "\n",
       "    .dataframe thead th {\n",
       "        text-align: right;\n",
       "    }\n",
       "</style>\n",
       "<table border=\"1\" class=\"dataframe\">\n",
       "  <thead>\n",
       "    <tr style=\"text-align: right;\">\n",
       "      <th></th>\n",
       "      <th></th>\n",
       "      <th>age</th>\n",
       "    </tr>\n",
       "    <tr>\n",
       "      <th>group</th>\n",
       "      <th>sex</th>\n",
       "      <th></th>\n",
       "    </tr>\n",
       "  </thead>\n",
       "  <tbody>\n",
       "    <tr>\n",
       "      <th rowspan=\"2\" valign=\"top\">HC</th>\n",
       "      <th>f</th>\n",
       "      <td>7</td>\n",
       "    </tr>\n",
       "    <tr>\n",
       "      <th>m</th>\n",
       "      <td>21</td>\n",
       "    </tr>\n",
       "    <tr>\n",
       "      <th rowspan=\"2\" valign=\"top\">PTSD</th>\n",
       "      <th>f</th>\n",
       "      <td>7</td>\n",
       "    </tr>\n",
       "    <tr>\n",
       "      <th>m</th>\n",
       "      <td>6</td>\n",
       "    </tr>\n",
       "  </tbody>\n",
       "</table>\n",
       "</div>"
      ],
      "text/plain": [
       "           age\n",
       "group sex     \n",
       "HC    f      7\n",
       "      m     21\n",
       "PTSD  f      7\n",
       "      m      6"
      ]
     },
     "execution_count": 6,
     "metadata": {},
     "output_type": "execute_result"
    }
   ],
   "source": [
    "wb[['group','sex','age']].groupby(['group','sex']).count()"
   ]
  },
  {
   "cell_type": "code",
   "execution_count": 7,
   "id": "3306df81",
   "metadata": {},
   "outputs": [
    {
     "data": {
      "text/html": [
       "<div>\n",
       "<style scoped>\n",
       "    .dataframe tbody tr th:only-of-type {\n",
       "        vertical-align: middle;\n",
       "    }\n",
       "\n",
       "    .dataframe tbody tr th {\n",
       "        vertical-align: top;\n",
       "    }\n",
       "\n",
       "    .dataframe thead tr th {\n",
       "        text-align: left;\n",
       "    }\n",
       "\n",
       "    .dataframe thead tr:last-of-type th {\n",
       "        text-align: right;\n",
       "    }\n",
       "</style>\n",
       "<table border=\"1\" class=\"dataframe\">\n",
       "  <thead>\n",
       "    <tr>\n",
       "      <th></th>\n",
       "      <th colspan=\"2\" halign=\"left\">age</th>\n",
       "      <th colspan=\"2\" halign=\"left\">whole_brain</th>\n",
       "      <th colspan=\"2\" halign=\"left\">Sex</th>\n",
       "      <th colspan=\"2\" halign=\"left\">Group</th>\n",
       "    </tr>\n",
       "    <tr>\n",
       "      <th></th>\n",
       "      <th>mean</th>\n",
       "      <th>std</th>\n",
       "      <th>mean</th>\n",
       "      <th>std</th>\n",
       "      <th>mean</th>\n",
       "      <th>std</th>\n",
       "      <th>mean</th>\n",
       "      <th>std</th>\n",
       "    </tr>\n",
       "    <tr>\n",
       "      <th>group</th>\n",
       "      <th></th>\n",
       "      <th></th>\n",
       "      <th></th>\n",
       "      <th></th>\n",
       "      <th></th>\n",
       "      <th></th>\n",
       "      <th></th>\n",
       "      <th></th>\n",
       "    </tr>\n",
       "  </thead>\n",
       "  <tbody>\n",
       "    <tr>\n",
       "      <th>HC</th>\n",
       "      <td>28.750000</td>\n",
       "      <td>10.644508</td>\n",
       "      <td>1.521542</td>\n",
       "      <td>0.206936</td>\n",
       "      <td>0.250000</td>\n",
       "      <td>0.440959</td>\n",
       "      <td>0.0</td>\n",
       "      <td>0.0</td>\n",
       "    </tr>\n",
       "    <tr>\n",
       "      <th>PTSD</th>\n",
       "      <td>42.307692</td>\n",
       "      <td>13.567023</td>\n",
       "      <td>1.283803</td>\n",
       "      <td>0.211652</td>\n",
       "      <td>0.538462</td>\n",
       "      <td>0.518875</td>\n",
       "      <td>1.0</td>\n",
       "      <td>0.0</td>\n",
       "    </tr>\n",
       "  </tbody>\n",
       "</table>\n",
       "</div>"
      ],
      "text/plain": [
       "             age            whole_brain                 Sex           Group  \\\n",
       "            mean        std        mean       std      mean       std  mean   \n",
       "group                                                                         \n",
       "HC     28.750000  10.644508    1.521542  0.206936  0.250000  0.440959   0.0   \n",
       "PTSD   42.307692  13.567023    1.283803  0.211652  0.538462  0.518875   1.0   \n",
       "\n",
       "            \n",
       "       std  \n",
       "group       \n",
       "HC     0.0  \n",
       "PTSD   0.0  "
      ]
     },
     "execution_count": 7,
     "metadata": {},
     "output_type": "execute_result"
    }
   ],
   "source": [
    "wb.groupby(['group'], as_index=False).agg(['mean','std'])"
   ]
  },
  {
   "cell_type": "code",
   "execution_count": 8,
   "id": "bed5ff6d",
   "metadata": {},
   "outputs": [
    {
     "data": {
      "text/html": [
       "<div>\n",
       "<style scoped>\n",
       "    .dataframe tbody tr th:only-of-type {\n",
       "        vertical-align: middle;\n",
       "    }\n",
       "\n",
       "    .dataframe tbody tr th {\n",
       "        vertical-align: top;\n",
       "    }\n",
       "\n",
       "    .dataframe thead tr th {\n",
       "        text-align: left;\n",
       "    }\n",
       "\n",
       "    .dataframe thead tr:last-of-type th {\n",
       "        text-align: right;\n",
       "    }\n",
       "</style>\n",
       "<table border=\"1\" class=\"dataframe\">\n",
       "  <thead>\n",
       "    <tr>\n",
       "      <th></th>\n",
       "      <th colspan=\"2\" halign=\"left\">age</th>\n",
       "      <th colspan=\"2\" halign=\"left\">whole_brain</th>\n",
       "      <th colspan=\"2\" halign=\"left\">Sex</th>\n",
       "      <th colspan=\"2\" halign=\"left\">Group</th>\n",
       "    </tr>\n",
       "    <tr>\n",
       "      <th></th>\n",
       "      <th>mean</th>\n",
       "      <th>std</th>\n",
       "      <th>mean</th>\n",
       "      <th>std</th>\n",
       "      <th>mean</th>\n",
       "      <th>std</th>\n",
       "      <th>mean</th>\n",
       "      <th>std</th>\n",
       "    </tr>\n",
       "    <tr>\n",
       "      <th>sex</th>\n",
       "      <th></th>\n",
       "      <th></th>\n",
       "      <th></th>\n",
       "      <th></th>\n",
       "      <th></th>\n",
       "      <th></th>\n",
       "      <th></th>\n",
       "      <th></th>\n",
       "    </tr>\n",
       "  </thead>\n",
       "  <tbody>\n",
       "    <tr>\n",
       "      <th>f</th>\n",
       "      <td>33.000000</td>\n",
       "      <td>13.817492</td>\n",
       "      <td>1.448039</td>\n",
       "      <td>0.289559</td>\n",
       "      <td>1.0</td>\n",
       "      <td>0.0</td>\n",
       "      <td>0.500000</td>\n",
       "      <td>0.518875</td>\n",
       "    </tr>\n",
       "    <tr>\n",
       "      <th>m</th>\n",
       "      <td>33.074074</td>\n",
       "      <td>13.035236</td>\n",
       "      <td>1.445188</td>\n",
       "      <td>0.206202</td>\n",
       "      <td>0.0</td>\n",
       "      <td>0.0</td>\n",
       "      <td>0.222222</td>\n",
       "      <td>0.423659</td>\n",
       "    </tr>\n",
       "  </tbody>\n",
       "</table>\n",
       "</div>"
      ],
      "text/plain": [
       "           age            whole_brain            Sex          Group          \n",
       "          mean        std        mean       std mean  std      mean       std\n",
       "sex                                                                          \n",
       "f    33.000000  13.817492    1.448039  0.289559  1.0  0.0  0.500000  0.518875\n",
       "m    33.074074  13.035236    1.445188  0.206202  0.0  0.0  0.222222  0.423659"
      ]
     },
     "execution_count": 8,
     "metadata": {},
     "output_type": "execute_result"
    }
   ],
   "source": [
    "wb.groupby(['sex'], as_index=False).agg(['mean','std'])"
   ]
  },
  {
   "cell_type": "markdown",
   "id": "cb80e19d",
   "metadata": {},
   "source": [
    "### Descriptive notes \n",
    "\n",
    "Our sample consist of a total of 41 (13 PTSD), this gives us more statistical power, but also pose 2 limitations. The PTSD sample consist of higher ratio of females to males and a higher average age.\n",
    "\n",
    "The higher female/male ratio in the PTSD group is representative of the general population.\n",
    "\n",
    "There appear to be no difference between females and males in age or CB1r availability."
   ]
  },
  {
   "cell_type": "markdown",
   "id": "bc0150cf",
   "metadata": {},
   "source": [
    "## Age effects and CB1r"
   ]
  },
  {
   "cell_type": "code",
   "execution_count": 9,
   "id": "3342c2e8",
   "metadata": {},
   "outputs": [
    {
     "data": {
      "text/html": [
       "<div>\n",
       "<style scoped>\n",
       "    .dataframe tbody tr th:only-of-type {\n",
       "        vertical-align: middle;\n",
       "    }\n",
       "\n",
       "    .dataframe tbody tr th {\n",
       "        vertical-align: top;\n",
       "    }\n",
       "\n",
       "    .dataframe thead th {\n",
       "        text-align: right;\n",
       "    }\n",
       "</style>\n",
       "<table border=\"1\" class=\"dataframe\">\n",
       "  <thead>\n",
       "    <tr style=\"text-align: right;\">\n",
       "      <th></th>\n",
       "      <th>T</th>\n",
       "      <th>dof</th>\n",
       "      <th>alternative</th>\n",
       "      <th>p-val</th>\n",
       "      <th>CI95%</th>\n",
       "      <th>cohen-d</th>\n",
       "      <th>BF10</th>\n",
       "      <th>power</th>\n",
       "    </tr>\n",
       "  </thead>\n",
       "  <tbody>\n",
       "    <tr>\n",
       "      <th>T-test</th>\n",
       "      <td>3.1775</td>\n",
       "      <td>19.144468</td>\n",
       "      <td>two-sided</td>\n",
       "      <td>0.004924</td>\n",
       "      <td>[4.63, 22.48]</td>\n",
       "      <td>1.166526</td>\n",
       "      <td>12.974</td>\n",
       "      <td>0.923502</td>\n",
       "    </tr>\n",
       "  </tbody>\n",
       "</table>\n",
       "</div>"
      ],
      "text/plain": [
       "             T        dof alternative     p-val          CI95%   cohen-d  \\\n",
       "T-test  3.1775  19.144468   two-sided  0.004924  [4.63, 22.48]  1.166526   \n",
       "\n",
       "          BF10     power  \n",
       "T-test  12.974  0.923502  "
      ]
     },
     "execution_count": 9,
     "metadata": {},
     "output_type": "execute_result"
    }
   ],
   "source": [
    "pg.ttest(wb[wb['group']=='PTSD']['age'],wb[wb['group']=='HC']['age'])"
   ]
  },
  {
   "cell_type": "code",
   "execution_count": 10,
   "id": "4ca24ae5",
   "metadata": {},
   "outputs": [
    {
     "data": {
      "text/html": [
       "<div>\n",
       "<style scoped>\n",
       "    .dataframe tbody tr th:only-of-type {\n",
       "        vertical-align: middle;\n",
       "    }\n",
       "\n",
       "    .dataframe tbody tr th {\n",
       "        vertical-align: top;\n",
       "    }\n",
       "\n",
       "    .dataframe thead th {\n",
       "        text-align: right;\n",
       "    }\n",
       "</style>\n",
       "<table border=\"1\" class=\"dataframe\">\n",
       "  <thead>\n",
       "    <tr style=\"text-align: right;\">\n",
       "      <th></th>\n",
       "      <th>n</th>\n",
       "      <th>r</th>\n",
       "      <th>CI95%</th>\n",
       "      <th>p-val</th>\n",
       "      <th>power</th>\n",
       "    </tr>\n",
       "  </thead>\n",
       "  <tbody>\n",
       "    <tr>\n",
       "      <th>bicor</th>\n",
       "      <td>41</td>\n",
       "      <td>-0.39486</td>\n",
       "      <td>[-0.63, -0.1]</td>\n",
       "      <td>0.010622</td>\n",
       "      <td>0.739278</td>\n",
       "    </tr>\n",
       "  </tbody>\n",
       "</table>\n",
       "</div>"
      ],
      "text/plain": [
       "        n        r          CI95%     p-val     power\n",
       "bicor  41 -0.39486  [-0.63, -0.1]  0.010622  0.739278"
      ]
     },
     "execution_count": 10,
     "metadata": {},
     "output_type": "execute_result"
    }
   ],
   "source": [
    "pg.corr(wb.age, wb.whole_brain, method='bicor')"
   ]
  },
  {
   "cell_type": "code",
   "execution_count": 11,
   "id": "7f9ae9e5",
   "metadata": {},
   "outputs": [
    {
     "data": {
      "image/png": "[encoded data removed]",
      "text/plain": [
       "<Figure size 576x576 with 1 Axes>"
      ]
     },
     "metadata": {},
     "output_type": "display_data"
    }
   ],
   "source": [
    "# Plot the relation between Age and CB1 receptor avilability \n",
    "\n",
    "sns.scatterplot(x = 'age', y = 'whole_brain', \n",
    "                data = wb, hue = 'group', style='sex', s=100).set(title='Age by whole brain Vt', \n",
    "                                             xlabel=None, ylabel =None)\n",
    "    \n",
    "sns.regplot(x = 'age', y = 'whole_brain', data = wb, scatter=False).set(xlabel=\"Age\", ylabel=\"CB1r availability (Vt)\")\n",
    "    \n",
    "plt.show()"
   ]
  },
  {
   "cell_type": "markdown",
   "id": "52dec973",
   "metadata": {},
   "source": [
    "The PTSD group is significantly older and we found a correlation between age and CB1r."
   ]
  },
  {
   "cell_type": "code",
   "execution_count": 12,
   "id": "35d4a6f5",
   "metadata": {},
   "outputs": [
    {
     "data": {
      "text/html": [
       "<div>\n",
       "<style scoped>\n",
       "    .dataframe tbody tr th:only-of-type {\n",
       "        vertical-align: middle;\n",
       "    }\n",
       "\n",
       "    .dataframe tbody tr th {\n",
       "        vertical-align: top;\n",
       "    }\n",
       "\n",
       "    .dataframe thead th {\n",
       "        text-align: right;\n",
       "    }\n",
       "</style>\n",
       "<table border=\"1\" class=\"dataframe\">\n",
       "  <thead>\n",
       "    <tr style=\"text-align: right;\">\n",
       "      <th></th>\n",
       "      <th>n</th>\n",
       "      <th>r</th>\n",
       "      <th>CI95%</th>\n",
       "      <th>p-val</th>\n",
       "      <th>power</th>\n",
       "    </tr>\n",
       "  </thead>\n",
       "  <tbody>\n",
       "    <tr>\n",
       "      <th>bicor</th>\n",
       "      <td>13</td>\n",
       "      <td>-0.299457</td>\n",
       "      <td>[-0.73, 0.3]</td>\n",
       "      <td>0.320236</td>\n",
       "      <td>0.171836</td>\n",
       "    </tr>\n",
       "  </tbody>\n",
       "</table>\n",
       "</div>"
      ],
      "text/plain": [
       "        n         r         CI95%     p-val     power\n",
       "bicor  13 -0.299457  [-0.73, 0.3]  0.320236  0.171836"
      ]
     },
     "execution_count": 12,
     "metadata": {},
     "output_type": "execute_result"
    }
   ],
   "source": [
    "pg.corr(wb[wb['group']=='PTSD']['age'], wb[wb['group']=='PTSD']['whole_brain'], method='bicor')"
   ]
  },
  {
   "cell_type": "code",
   "execution_count": 13,
   "id": "55256b3d",
   "metadata": {},
   "outputs": [
    {
     "data": {
      "text/html": [
       "<div>\n",
       "<style scoped>\n",
       "    .dataframe tbody tr th:only-of-type {\n",
       "        vertical-align: middle;\n",
       "    }\n",
       "\n",
       "    .dataframe tbody tr th {\n",
       "        vertical-align: top;\n",
       "    }\n",
       "\n",
       "    .dataframe thead th {\n",
       "        text-align: right;\n",
       "    }\n",
       "</style>\n",
       "<table border=\"1\" class=\"dataframe\">\n",
       "  <thead>\n",
       "    <tr style=\"text-align: right;\">\n",
       "      <th></th>\n",
       "      <th>n</th>\n",
       "      <th>r</th>\n",
       "      <th>CI95%</th>\n",
       "      <th>p-val</th>\n",
       "      <th>power</th>\n",
       "    </tr>\n",
       "  </thead>\n",
       "  <tbody>\n",
       "    <tr>\n",
       "      <th>bicor</th>\n",
       "      <td>28</td>\n",
       "      <td>-0.058253</td>\n",
       "      <td>[-0.42, 0.32]</td>\n",
       "      <td>0.76842</td>\n",
       "      <td>0.059549</td>\n",
       "    </tr>\n",
       "  </tbody>\n",
       "</table>\n",
       "</div>"
      ],
      "text/plain": [
       "        n         r          CI95%    p-val     power\n",
       "bicor  28 -0.058253  [-0.42, 0.32]  0.76842  0.059549"
      ]
     },
     "execution_count": 13,
     "metadata": {},
     "output_type": "execute_result"
    }
   ],
   "source": [
    "pg.corr(wb[wb['group']=='HC']['age'], wb[wb['group']=='HC']['whole_brain'], method='bicor')"
   ]
  },
  {
   "cell_type": "code",
   "execution_count": 14,
   "id": "c004e517",
   "metadata": {},
   "outputs": [
    {
     "data": {
      "text/html": [
       "<div>\n",
       "<style scoped>\n",
       "    .dataframe tbody tr th:only-of-type {\n",
       "        vertical-align: middle;\n",
       "    }\n",
       "\n",
       "    .dataframe tbody tr th {\n",
       "        vertical-align: top;\n",
       "    }\n",
       "\n",
       "    .dataframe thead th {\n",
       "        text-align: right;\n",
       "    }\n",
       "</style>\n",
       "<table border=\"1\" class=\"dataframe\">\n",
       "  <thead>\n",
       "    <tr style=\"text-align: right;\">\n",
       "      <th></th>\n",
       "      <th>n</th>\n",
       "      <th>r</th>\n",
       "      <th>CI95%</th>\n",
       "      <th>p-val</th>\n",
       "    </tr>\n",
       "  </thead>\n",
       "  <tbody>\n",
       "    <tr>\n",
       "      <th>pearson</th>\n",
       "      <td>41</td>\n",
       "      <td>-0.208678</td>\n",
       "      <td>[-0.49, 0.11]</td>\n",
       "      <td>0.196279</td>\n",
       "    </tr>\n",
       "  </tbody>\n",
       "</table>\n",
       "</div>"
      ],
      "text/plain": [
       "          n         r          CI95%     p-val\n",
       "pearson  41 -0.208678  [-0.49, 0.11]  0.196279"
      ]
     },
     "execution_count": 14,
     "metadata": {},
     "output_type": "execute_result"
    }
   ],
   "source": [
    "pg.partial_corr(data=wb, x='age', y ='whole_brain', covar='Group')"
   ]
  },
  {
   "cell_type": "markdown",
   "id": "2fee1838",
   "metadata": {},
   "source": [
    "However, farther analysis suggest that the souece of the correlation between age and CB1r is a difference between the groups rather than an actual age effect.\n",
    "\n",
    "No correlation between age and group within each of the group and no significt correlation when age is partialed out.\n",
    "\n",
    "\n",
    "# Analysis of the differences between PTSD and HC"
   ]
  },
  {
   "cell_type": "code",
   "execution_count": 15,
   "id": "8f23b747",
   "metadata": {},
   "outputs": [
    {
     "data": {
      "text/html": [
       "<div>\n",
       "<style scoped>\n",
       "    .dataframe tbody tr th:only-of-type {\n",
       "        vertical-align: middle;\n",
       "    }\n",
       "\n",
       "    .dataframe tbody tr th {\n",
       "        vertical-align: top;\n",
       "    }\n",
       "\n",
       "    .dataframe thead th {\n",
       "        text-align: right;\n",
       "    }\n",
       "</style>\n",
       "<table border=\"1\" class=\"dataframe\">\n",
       "  <thead>\n",
       "    <tr style=\"text-align: right;\">\n",
       "      <th></th>\n",
       "      <th>Source</th>\n",
       "      <th>SS</th>\n",
       "      <th>DF</th>\n",
       "      <th>F</th>\n",
       "      <th>p-unc</th>\n",
       "      <th>np2</th>\n",
       "    </tr>\n",
       "  </thead>\n",
       "  <tbody>\n",
       "    <tr>\n",
       "      <th>0</th>\n",
       "      <td>group</td>\n",
       "      <td>0.267657</td>\n",
       "      <td>1</td>\n",
       "      <td>6.231030</td>\n",
       "      <td>0.017136</td>\n",
       "      <td>0.144133</td>\n",
       "    </tr>\n",
       "    <tr>\n",
       "      <th>1</th>\n",
       "      <td>age</td>\n",
       "      <td>0.056845</td>\n",
       "      <td>1</td>\n",
       "      <td>1.323339</td>\n",
       "      <td>0.257375</td>\n",
       "      <td>0.034531</td>\n",
       "    </tr>\n",
       "    <tr>\n",
       "      <th>2</th>\n",
       "      <td>Sex</td>\n",
       "      <td>0.030653</td>\n",
       "      <td>1</td>\n",
       "      <td>0.713595</td>\n",
       "      <td>0.403682</td>\n",
       "      <td>0.018921</td>\n",
       "    </tr>\n",
       "    <tr>\n",
       "      <th>3</th>\n",
       "      <td>Residual</td>\n",
       "      <td>1.589355</td>\n",
       "      <td>37</td>\n",
       "      <td>NaN</td>\n",
       "      <td>NaN</td>\n",
       "      <td>NaN</td>\n",
       "    </tr>\n",
       "  </tbody>\n",
       "</table>\n",
       "</div>"
      ],
      "text/plain": [
       "     Source        SS  DF         F     p-unc       np2\n",
       "0     group  0.267657   1  6.231030  0.017136  0.144133\n",
       "1       age  0.056845   1  1.323339  0.257375  0.034531\n",
       "2       Sex  0.030653   1  0.713595  0.403682  0.018921\n",
       "3  Residual  1.589355  37       NaN       NaN       NaN"
      ]
     },
     "execution_count": 15,
     "metadata": {},
     "output_type": "execute_result"
    }
   ],
   "source": [
    "pg.ancova(data=wb, dv='whole_brain', covar=['age','Sex'], between='group')"
   ]
  },
  {
   "cell_type": "code",
   "execution_count": 16,
   "id": "c8a6ff37",
   "metadata": {},
   "outputs": [
    {
     "data": {
      "text/plain": [
       "[Text(0.5, 0, ''), Text(0, 0.5, 'Whole Brain Vt')]"
      ]
     },
     "execution_count": 16,
     "metadata": {},
     "output_type": "execute_result"
    },
    {
     "data": {
      "image/png": "[encoded data removed]",
      "text/plain": [
       "<Figure size 576x576 with 1 Axes>"
      ]
     },
     "metadata": {},
     "output_type": "display_data"
    }
   ],
   "source": [
    "sns.swarmplot(x = 'group', y = 'whole_brain', data = wb, hue=\"sex\", s=12).set(xlabel=None, ylabel=\"Whole Brain Vt\")"
   ]
  },
  {
   "cell_type": "markdown",
   "id": "c2fc0902",
   "metadata": {},
   "source": [
    "There is a strong reduction in the expression of CB1r in the PTSD group. This is controlling for both age and sex.\n",
    "\n",
    "To verify this result and look at the contribution of age and sex, 3 OLS models were used. \n",
    "\n",
    "Using AIC and BIC to compare models we will asses the fit to the data.\n",
    "\n"
   ]
  },
  {
   "cell_type": "markdown",
   "id": "2f1288d9",
   "metadata": {},
   "source": [
    "### some extra plot to show age / sex / and CB1r"
   ]
  },
  {
   "cell_type": "code",
   "execution_count": 17,
   "id": "8b0cb44a",
   "metadata": {},
   "outputs": [],
   "source": [
    "norm = matplotlib.colors.Normalize(vmin=wb[\"age\"].min(), vmax=wb[\"age\"].max())\n",
    "colors = {}\n",
    "cmap = sns.diverging_palette(240, 10, as_cmap=True, center=\"dark\")\n",
    "\n",
    "for cval in wb[\"age\"]:\n",
    "    colors.update({cval : cmap(norm(cval))})"
   ]
  },
  {
   "cell_type": "code",
   "execution_count": 18,
   "id": "20c302bf",
   "metadata": {},
   "outputs": [
    {
     "data": {
      "image/png": "[encoded data removed]",
      "text/plain": [
       "<Figure size 576x576 with 2 Axes>"
      ]
     },
     "metadata": {},
     "output_type": "display_data"
    }
   ],
   "source": [
    "fig, ax = plt.subplots(figsize=(8,8))\n",
    "\n",
    "sns.swarmplot(x = 'group', y = 'whole_brain', data = wb, hue = 'age', ax=ax,\n",
    "              palette = colors, s=10).set(xlabel=None, ylabel=\"CB1r avialability (Vt)\")\n",
    "\n",
    "ax.legend_.remove()\n",
    "## create colorbar ##\n",
    "divider = make_axes_locatable(plt.gca())\n",
    "ax_cb = divider.new_horizontal(size=\"5%\", pad=0.05)\n",
    "fig.add_axes(ax_cb)\n",
    "cb1 = matplotlib.colorbar.ColorbarBase(ax_cb, cmap=cmap,\n",
    "                                norm=norm,\n",
    "                                orientation='vertical')\n",
    "cb1.set_label('Age')\n",
    "plt.show()"
   ]
  },
  {
   "cell_type": "code",
   "execution_count": 20,
   "id": "68375cfc",
   "metadata": {},
   "outputs": [
    {
     "name": "stderr",
     "output_type": "stream",
     "text": [
      "/home/nachshon/anaconda3/envs/cb1scr/lib/python3.8/site-packages/seaborn/categorical.py:1296: UserWarning: 50.0% of the points cannot be placed; you may want to decrease the size of the markers or use stripplot.\n",
      "  warnings.warn(msg, UserWarning)\n"
     ]
    },
    {
     "data": {
      "image/png": "[encoded data removed]",
      "text/plain": [
       "<Figure size 576x576 with 2 Axes>"
      ]
     },
     "metadata": {},
     "output_type": "display_data"
    }
   ],
   "source": [
    "sns.set(style=\"whitegrid\")\n",
    "tips = sns.load_dataset(\"tips\")\n",
    "\n",
    "fig, ax = plt.subplots(1,1)\n",
    "# dummy plots, just to get the Path objects\n",
    "a = ax.scatter([1,2],[3,4], marker='s')\n",
    "b = ax.scatter([1,2],[3,4], marker='^')\n",
    "square_mk, = a.get_paths()\n",
    "triangle_up_mk, = b.get_paths()\n",
    "a.remove()\n",
    "b.remove()\n",
    "\n",
    "ax = sns.swarmplot(x=\"group\", y=\"whole_brain\",data=wb,size=8,hue = 'age', ax=ax,\n",
    "              palette = colors, dodge=True)\n",
    "N_hues = len(pd.unique(wb.sex))\n",
    "\n",
    "c = ax.collections\n",
    "for a in c[::N_hues]:\n",
    "    a.set_paths([triangle_up_mk])\n",
    "for a in c[1::N_hues]:\n",
    "    a.set_paths([square_mk])\n",
    "#update legend\n",
    "ax.legend(c[-2:],pd.unique(wb.sex))\n",
    "ax.set(ylim=(1,2),ylabel=\"CB1r avialability (Vt)\")\n",
    "## create colorbar ##\n",
    "divider = make_axes_locatable(plt.gca())\n",
    "ax_cb = divider.new_horizontal(size=\"5%\", pad=0.05)\n",
    "fig.add_axes(ax_cb)\n",
    "cb1 = matplotlib.colorbar.ColorbarBase(ax_cb, cmap=cmap,\n",
    "                                norm=norm,\n",
    "                                orientation='vertical')\n",
    "cb1.set_label('Age')\n",
    "plt.show()\n"
   ]
  },
  {
   "cell_type": "markdown",
   "id": "10fb62b6",
   "metadata": {},
   "source": [
    "\n",
    "## OLS analysis\n"
   ]
  },
  {
   "cell_type": "code",
   "execution_count": 21,
   "id": "adbdcb53",
   "metadata": {},
   "outputs": [],
   "source": [
    "m1 = smf.ols(formula='whole_brain ~ group', data=wb)\n",
    "m2 = smf.ols(formula='whole_brain ~ group + age', data=wb)\n",
    "m3 = smf.ols(formula='whole_brain ~ group + age + sex', data=wb)\n",
    "    \n",
    "m1f = m1.fit()\n",
    "m2f = m2.fit()\n",
    "m3f = m3.fit()"
   ]
  },
  {
   "cell_type": "code",
   "execution_count": 22,
   "id": "cb63a057",
   "metadata": {},
   "outputs": [
    {
     "name": "stdout",
     "output_type": "stream",
     "text": [
      "                            OLS Regression Results                            \n",
      "==============================================================================\n",
      "Dep. Variable:            whole_brain   R-squared:                       0.229\n",
      "Model:                            OLS   Adj. R-squared:                  0.209\n",
      "Method:                 Least Squares   F-statistic:                     11.55\n",
      "Date:                Fri, 04 Feb 2022   Prob (F-statistic):            0.00157\n",
      "Time:                        16:06:43   Log-Likelihood:                 7.1492\n",
      "No. Observations:                  41   AIC:                            -10.30\n",
      "Df Residuals:                      39   BIC:                            -6.871\n",
      "Df Model:                           1                                         \n",
      "Covariance Type:            nonrobust                                         \n",
      "=================================================================================\n",
      "                    coef    std err          t      P>|t|      [0.025      0.975]\n",
      "---------------------------------------------------------------------------------\n",
      "Intercept         1.5215      0.039     38.634      0.000       1.442       1.601\n",
      "group[T.PTSD]    -0.2377      0.070     -3.399      0.002      -0.379      -0.096\n",
      "==============================================================================\n",
      "Omnibus:                        2.858   Durbin-Watson:                   1.885\n",
      "Prob(Omnibus):                  0.240   Jarque-Bera (JB):                2.174\n",
      "Skew:                           0.408   Prob(JB):                        0.337\n",
      "Kurtosis:                       2.222   Cond. No.                         2.42\n",
      "==============================================================================\n",
      "\n",
      "Notes:\n",
      "[1] Standard Errors assume that the covariance matrix of the errors is correctly specified.\n",
      "                            OLS Regression Results                            \n",
      "==============================================================================\n",
      "Dep. Variable:            whole_brain   R-squared:                       0.262\n",
      "Model:                            OLS   Adj. R-squared:                  0.223\n",
      "Method:                 Least Squares   F-statistic:                     6.750\n",
      "Date:                Fri, 04 Feb 2022   Prob (F-statistic):            0.00310\n",
      "Time:                        16:06:43   Log-Likelihood:                 8.0619\n",
      "No. Observations:                  41   AIC:                            -10.12\n",
      "Df Residuals:                      38   BIC:                            -4.983\n",
      "Df Model:                           2                                         \n",
      "Covariance Type:            nonrobust                                         \n",
      "=================================================================================\n",
      "                    coef    std err          t      P>|t|      [0.025      0.975]\n",
      "---------------------------------------------------------------------------------\n",
      "Intercept         1.6291      0.091     17.978      0.000       1.446       1.813\n",
      "group[T.PTSD]    -0.1870      0.079     -2.358      0.024      -0.348      -0.026\n",
      "age              -0.0037      0.003     -1.315      0.196      -0.010       0.002\n",
      "==============================================================================\n",
      "Omnibus:                        2.620   Durbin-Watson:                   1.955\n",
      "Prob(Omnibus):                  0.270   Jarque-Bera (JB):                1.760\n",
      "Skew:                           0.291   Prob(JB):                        0.415\n",
      "Kurtosis:                       2.169   Cond. No.                         105.\n",
      "==============================================================================\n",
      "\n",
      "Notes:\n",
      "[1] Standard Errors assume that the covariance matrix of the errors is correctly specified.\n",
      "                            OLS Regression Results                            \n",
      "==============================================================================\n",
      "Dep. Variable:            whole_brain   R-squared:                       0.276\n",
      "Model:                            OLS   Adj. R-squared:                  0.217\n",
      "Method:                 Least Squares   F-statistic:                     4.704\n",
      "Date:                Fri, 04 Feb 2022   Prob (F-statistic):            0.00701\n",
      "Time:                        16:06:43   Log-Likelihood:                 8.4535\n",
      "No. Observations:                  41   AIC:                            -8.907\n",
      "Df Residuals:                      37   BIC:                            -2.053\n",
      "Df Model:                           3                                         \n",
      "Covariance Type:            nonrobust                                         \n",
      "=================================================================================\n",
      "                    coef    std err          t      P>|t|      [0.025      0.975]\n",
      "---------------------------------------------------------------------------------\n",
      "Intercept         1.6631      0.099     16.723      0.000       1.462       1.865\n",
      "group[T.PTSD]    -0.2102      0.084     -2.496      0.017      -0.381      -0.040\n",
      "sex[T.m]         -0.0610      0.072     -0.845      0.404      -0.207       0.085\n",
      "age              -0.0033      0.003     -1.150      0.257      -0.009       0.003\n",
      "==============================================================================\n",
      "Omnibus:                        5.469   Durbin-Watson:                   1.895\n",
      "Prob(Omnibus):                  0.065   Jarque-Bera (JB):                2.442\n",
      "Skew:                           0.291   Prob(JB):                        0.295\n",
      "Kurtosis:                       1.955   Cond. No.                         117.\n",
      "==============================================================================\n",
      "\n",
      "Notes:\n",
      "[1] Standard Errors assume that the covariance matrix of the errors is correctly specified.\n"
     ]
    }
   ],
   "source": [
    "print(m1f.summary())\n",
    "print(m2f.summary())\n",
    "print(m3f.summary())"
   ]
  },
  {
   "cell_type": "markdown",
   "id": "3a2a39a7",
   "metadata": {},
   "source": [
    "All models show a significant reduction in CB1r in the PTSD group p< 0.002-0.017. \n",
    "\n",
    "While the model without age or sex shows the best fit to the data, age is correlated with Vt and should be consider as an important covariate.\n",
    "\n",
    "## Correlation between Whole brain CB1r availability and PTSD symptoms"
   ]
  },
  {
   "cell_type": "code",
   "execution_count": 23,
   "id": "9d17b967",
   "metadata": {},
   "outputs": [
    {
     "data": {
      "text/html": [
       "<div>\n",
       "<style scoped>\n",
       "    .dataframe tbody tr th:only-of-type {\n",
       "        vertical-align: middle;\n",
       "    }\n",
       "\n",
       "    .dataframe tbody tr th {\n",
       "        vertical-align: top;\n",
       "    }\n",
       "\n",
       "    .dataframe thead th {\n",
       "        text-align: right;\n",
       "    }\n",
       "</style>\n",
       "<table border=\"1\" class=\"dataframe\">\n",
       "  <thead>\n",
       "    <tr style=\"text-align: right;\">\n",
       "      <th></th>\n",
       "      <th>n</th>\n",
       "      <th>r</th>\n",
       "      <th>CI95%</th>\n",
       "      <th>p-val</th>\n",
       "    </tr>\n",
       "  </thead>\n",
       "  <tbody>\n",
       "    <tr>\n",
       "      <th>pearson</th>\n",
       "      <td>13</td>\n",
       "      <td>0.215866</td>\n",
       "      <td>[-0.41, 0.7]</td>\n",
       "      <td>0.500419</td>\n",
       "    </tr>\n",
       "  </tbody>\n",
       "</table>\n",
       "</div>"
      ],
      "text/plain": [
       "          n         r         CI95%     p-val\n",
       "pearson  13  0.215866  [-0.41, 0.7]  0.500419"
      ]
     },
     "execution_count": 23,
     "metadata": {},
     "output_type": "execute_result"
    }
   ],
   "source": [
    "pg.partial_corr(data=PTSD, x='whole_brain', y ='Total', covar=['age'])"
   ]
  },
  {
   "cell_type": "markdown",
   "id": "d3154c68",
   "metadata": {},
   "source": [
    "No significant correlation between global signal and PTSD symptoms\n",
    "\n",
    "## Correlation between Amygdala CB1r and PTSD symptoms\n",
    "\n",
    "as an a-priori analysis we choose to focus on the Amygdala. "
   ]
  },
  {
   "cell_type": "code",
   "execution_count": 24,
   "id": "a3a5fbb0",
   "metadata": {},
   "outputs": [
    {
     "data": {
      "text/html": [
       "<div>\n",
       "<style scoped>\n",
       "    .dataframe tbody tr th:only-of-type {\n",
       "        vertical-align: middle;\n",
       "    }\n",
       "\n",
       "    .dataframe tbody tr th {\n",
       "        vertical-align: top;\n",
       "    }\n",
       "\n",
       "    .dataframe thead th {\n",
       "        text-align: right;\n",
       "    }\n",
       "</style>\n",
       "<table border=\"1\" class=\"dataframe\">\n",
       "  <thead>\n",
       "    <tr style=\"text-align: right;\">\n",
       "      <th></th>\n",
       "      <th>n</th>\n",
       "      <th>r</th>\n",
       "      <th>CI95%</th>\n",
       "      <th>p-val</th>\n",
       "    </tr>\n",
       "  </thead>\n",
       "  <tbody>\n",
       "    <tr>\n",
       "      <th>pearson</th>\n",
       "      <td>13</td>\n",
       "      <td>0.609846</td>\n",
       "      <td>[0.02, 0.89]</td>\n",
       "      <td>0.04635</td>\n",
       "    </tr>\n",
       "  </tbody>\n",
       "</table>\n",
       "</div>"
      ],
      "text/plain": [
       "          n         r         CI95%    p-val\n",
       "pearson  13  0.609846  [0.02, 0.89]  0.04635"
      ]
     },
     "execution_count": 24,
     "metadata": {},
     "output_type": "execute_result"
    }
   ],
   "source": [
    "pg.partial_corr(data=PTSD, x='amygdala', y ='Total', covar=['age', 'whole_brain'])"
   ]
  },
  {
   "cell_type": "markdown",
   "id": "fceb10c2",
   "metadata": {},
   "source": [
    "There is a correlation between CB1r availability in the Amygdala and PTSD symptoms.\n",
    "\n",
    "This is a positive correlation and it suggest that higher availability is linked to worst outcome.\n",
    "\n",
    "Taken together with the overall reduction in CB1r, it suggest that the reduced CB1r is a compensatory mechanism. \n",
    "\n",
    "Thus, failure to down regulate CB1r in the Amygdala results in aberrant functioning.\n",
    "\n",
    "In our analysis we partialled out the global signal, hence, we are looking at the CB1r in amygdala compared to the other regions of the brain. We show that the higher the amygdala to brain ratio is the worst the outcome."
   ]
  },
  {
   "cell_type": "code",
   "execution_count": 25,
   "id": "8005c511",
   "metadata": {},
   "outputs": [
    {
     "data": {
      "text/plain": [
       "<AxesSubplot:xlabel='Amygdala Vt', ylabel='Totsl Symptoms'>"
      ]
     },
     "execution_count": 25,
     "metadata": {},
     "output_type": "execute_result"
    },
    {
     "data": {
      "image/png": "[encoded data removed]",
      "text/plain": [
       "<Figure size 576x576 with 1 Axes>"
      ]
     },
     "metadata": {},
     "output_type": "display_data"
    }
   ],
   "source": [
    "X = PTSD[['whole_brain', 'age']]   # independent variables\n",
    "y = PTSD['amygdala']   # dependent variables\n",
    "\n",
    "# add intercept\n",
    "X = sm.add_constant(X)\n",
    "\n",
    "# fit the regression model\n",
    "model = sm.OLS(y, X).fit() \n",
    "influence = model.get_influence()\n",
    "\n",
    "PTSD['Amygdala Vt'] = influence.resid_studentized_internal\n",
    "\n",
    "X = PTSD[[ 'whole_brain', 'age']]   # independent variables\n",
    "y = PTSD['Total']   # dependent variables\n",
    "\n",
    "# add intercept\n",
    "X = sm.add_constant(X)\n",
    "\n",
    "# fit the regression model\n",
    "model = sm.OLS(y, X).fit() \n",
    "influence = model.get_influence()\n",
    "\n",
    "PTSD['Totsl Symptoms'] = influence.resid_studentized_internal\n",
    "\n",
    "sns.regplot(x = 'Amygdala Vt', y = 'Totsl Symptoms', data = PTSD)"
   ]
  }
 ],
 "metadata": {
  "kernelspec": {
   "display_name": "Python 3 (ipykernel)",
   "language": "python",
   "name": "python3"
  },
  "language_info": {
   "codemirror_mode": {
    "name": "ipython",
    "version": 3
   },
   "file_extension": ".py",
   "mimetype": "text/x-python",
   "name": "python",
   "nbconvert_exporter": "python",
   "pygments_lexer": "ipython3",
   "version": "3.8.8"
  }
 },
 "nbformat": 4,
 "nbformat_minor": 5
}
